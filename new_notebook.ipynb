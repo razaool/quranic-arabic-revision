{
  "cells": [
    {
      "cell_type": "code",
      "execution_count": 2,
      "metadata": {},
      "outputs": [
        {
          "name": "stdout",
          "output_type": "stream",
          "text": [
            "📚 Quranic Arabic Revision Setup\n",
            "========================================\n",
            "✅ You have chosen to revise 2 ayahs.\n",
            "The variable 'ayahs_to_revise' now contains: 2\n"
          ]
        }
      ],
      "source": [
        "def get_revision_count():\n",
        "    \"\"\"\n",
        "    Ask the user how many ayahs they want to revise and return the count.\n",
        "    \n",
        "    Returns:\n",
        "        int: Number of ayahs the user wants to revise\n",
        "    \"\"\"\n",
        "    while True:\n",
        "        try:\n",
        "            num_ayahs = int(input(\"How many ayahs would you like to revise? (1-50): \"))\n",
        "            if 1 <= num_ayahs <= 50:\n",
        "                return num_ayahs\n",
        "            else:\n",
        "                print(\"Please enter a number between 1 and 50.\")\n",
        "        except ValueError:\n",
        "            print(\"Please enter a valid number.\")\n",
        "\n",
        "# Example usage:\n",
        "print(\"📚 Quranic Arabic Revision Setup\")\n",
        "print(\"=\" * 40)\n",
        "\n",
        "# Get user input and store in variable\n",
        "ayahs_to_revise = get_revision_count()\n",
        "\n",
        "print(f\"✅ You have chosen to revise {ayahs_to_revise} ayahs.\")\n",
        "print(f\"The variable 'ayahs_to_revise' now contains: {ayahs_to_revise}\")\n"
      ]
    }
  ],
  "metadata": {
    "kernelspec": {
      "display_name": "Python 3",
      "language": "python",
      "name": "python3"
    },
    "language_info": {
      "codemirror_mode": {
        "name": "ipython",
        "version": 3
      },
      "file_extension": ".py",
      "mimetype": "text/x-python",
      "name": "python",
      "nbconvert_exporter": "python",
      "pygments_lexer": "ipython3",
      "version": "3.9.6"
    }
  },
  "nbformat": 4,
  "nbformat_minor": 2
}
