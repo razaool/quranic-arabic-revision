{
  "cells": [
    {
      "cell_type": "code",
      "execution_count": 23,
      "metadata": {},
      "outputs": [
        {
          "data": {
            "text/html": [
              "\n",
              "<div style=\"direction:rtl;text-align:right;font-family:'Amiri','Scheherazade New','Times New Roman',serif;font-size:28px;line-height:2.4\">\n",
              "قُلْنَا ٱهْبِطُوا۟ مِنْهَا جَمِيعًۭا ۖ فَإِمَّا يَأْتِيَنَّكُم مِّنِّى هُدًۭى فَمَن تَبِعَ هُدَاىَ فَلَا خَوْفٌ عَلَيْهِمْ وَلَا هُمْ يَحْزَنُونَ <span style='color:#d4af37;font-size:.8em;margin-left:12px'>38</span> وَٱلَّذِينَ كَفَرُوا۟ وَكَذَّبُوا۟ بِـَٔايَٰتِنَآ أُو۟لَٰٓئِكَ أَصْحَٰبُ ٱلنَّارِ ۖ هُمْ فِيهَا خَٰلِدُونَ <span style='color:#d4af37;font-size:.8em;margin-left:12px'>39</span> يَٰبَنِىٓ إِسْرَٰٓءِيلَ ٱذْكُرُوا۟ نِعْمَتِىَ ٱلَّتِىٓ أَنْعَمْتُ عَلَيْكُمْ وَأَوْفُوا۟ بِعَهْدِىٓ أُوفِ بِعَهْدِكُمْ وَإِيَّٰىَ فَٱرْهَبُونِ <span style='color:#d4af37;font-size:.8em;margin-left:12px'>40</span> وَءَامِنُوا۟ بِمَآ أَنزَلْتُ مُصَدِّقًۭا لِّمَا مَعَكُمْ وَلَا تَكُونُوٓا۟ أَوَّلَ كَافِرٍۭ بِهِۦ ۖ وَلَا تَشْتَرُوا۟ بِـَٔايَٰتِى ثَمَنًۭا قَلِيلًۭا وَإِيَّٰىَ فَٱتَّقُونِ <span style='color:#d4af37;font-size:.8em;margin-left:12px'>41</span> وَلَا تَلْبِسُوا۟ ٱلْحَقَّ بِٱلْبَٰطِلِ وَتَكْتُمُوا۟ ٱلْحَقَّ وَأَنتُمْ تَعْلَمُونَ <span style='color:#d4af37;font-size:.8em;margin-left:12px'>42</span> وَأَقِيمُوا۟ ٱلصَّلَوٰةَ وَءَاتُوا۟ ٱلزَّكَوٰةَ وَٱرْكَعُوا۟ مَعَ ٱلرَّٰكِعِينَ <span style='color:#d4af37;font-size:.8em;margin-left:12px'>43</span> ۞ أَتَأْمُرُونَ ٱلنَّاسَ بِٱلْبِرِّ وَتَنسَوْنَ أَنفُسَكُمْ وَأَنتُمْ تَتْلُونَ ٱلْكِتَٰبَ ۚ أَفَلَا تَعْقِلُونَ <span style='color:#d4af37;font-size:.8em;margin-left:12px'>44</span> وَٱسْتَعِينُوا۟ بِٱلصَّبْرِ وَٱلصَّلَوٰةِ ۚ وَإِنَّهَا لَكَبِيرَةٌ إِلَّا عَلَى ٱلْخَٰشِعِينَ <span style='color:#d4af37;font-size:.8em;margin-left:12px'>45</span> ٱلَّذِينَ يَظُنُّونَ أَنَّهُم مُّلَٰقُوا۟ رَبِّهِمْ وَأَنَّهُمْ إِلَيْهِ رَٰجِعُونَ <span style='color:#d4af37;font-size:.8em;margin-left:12px'>46</span> يَٰبَنِىٓ إِسْرَٰٓءِيلَ ٱذْكُرُوا۟ نِعْمَتِىَ ٱلَّتِىٓ أَنْعَمْتُ عَلَيْكُمْ وَأَنِّى فَضَّلْتُكُمْ عَلَى ٱلْعَٰلَمِينَ <span style='color:#d4af37;font-size:.8em;margin-left:12px'>47</span> وَٱتَّقُوا۟ يَوْمًۭا لَّا تَجْزِى نَفْسٌ عَن نَّفْسٍۢ شَيْـًۭٔا وَلَا يُقْبَلُ مِنْهَا شَفَٰعَةٌۭ وَلَا يُؤْخَذُ مِنْهَا عَدْلٌۭ وَلَا هُمْ يُنصَرُونَ <span style='color:#d4af37;font-size:.8em;margin-left:12px'>48</span>\n",
              "</div>\n"
            ],
            "text/plain": [
              "<IPython.core.display.HTML object>"
            ]
          },
          "metadata": {},
          "output_type": "display_data"
        }
      ],
      "source": [
        "import requests\n",
        "from IPython.display import display, HTML\n",
        "page = 7\n",
        "r = requests.get(f\"http://api.alquran.cloud/v1/page/{page}/quran-uthmani\")\n",
        "d = r.json()[\"data\"]\n",
        "a = []\n",
        "for ayah in d[\"ayahs\"]:\n",
        "    a.append(f\"{ayah['text']} <span style='color:#d4af37;font-size:.8em;margin-left:12px'>{ayah['numberInSurah']}</span>\")\n",
        "html = f\"\"\"\n",
        "<div style=\"direction:rtl;text-align:right;font-family:'Amiri','Scheherazade New','Times New Roman',serif;font-size:28px;line-height:2.4\">\n",
        "{ ' '.join(a) }\n",
        "</div>\n",
        "\"\"\"\n",
        "display(HTML(html))\n"
      ]
    },
    {
      "cell_type": "code",
      "execution_count": 24,
      "metadata": {},
      "outputs": [
        {
          "data": {
            "text/html": [
              "\n",
              "<div style=\"background:#1e293b;padding:16px;border-radius:10px\"><div style='margin:10px 0'><div style=\"direction:rtl;text-align:right;font-family:'Amiri','Scheherazade New','Times New Roman',serif;font-size:24px;line-height:2.2\">قُلْنَا ٱهْبِطُوا۟ مِنْهَا جَمِيعًۭا ۖ فَإِمَّا يَأْتِيَنَّكُم مِّنِّى هُدًۭى فَمَن تَبِعَ هُدَاىَ فَلَا خَوْفٌ عَلَيْهِمْ وَلَا هُمْ يَحْزَنُونَ <span style='color:#d4af37;font-size:.8em;margin-left:10px'>38</span></div><div style=\"font-family:'Inter',-apple-system,BlinkMacSystemFont,'Segoe UI',Roboto,Arial,sans-serif;font-size:16px;line-height:1.6;color:#eee\">We said, \"Go down from it, all of you. And when guidance comes to you from Me, whoever follows My guidance - there will be no fear concerning them, nor will they grieve.</div></div><div style='margin:10px 0'><div style=\"direction:rtl;text-align:right;font-family:'Amiri','Scheherazade New','Times New Roman',serif;font-size:24px;line-height:2.2\">وَٱلَّذِينَ كَفَرُوا۟ وَكَذَّبُوا۟ بِـَٔايَٰتِنَآ أُو۟لَٰٓئِكَ أَصْحَٰبُ ٱلنَّارِ ۖ هُمْ فِيهَا خَٰلِدُونَ <span style='color:#d4af37;font-size:.8em;margin-left:10px'>39</span></div><div style=\"font-family:'Inter',-apple-system,BlinkMacSystemFont,'Segoe UI',Roboto,Arial,sans-serif;font-size:16px;line-height:1.6;color:#eee\">And those who disbelieve and deny Our signs - those will be companions of the Fire; they will abide therein eternally.\"</div></div><div style='margin:10px 0'><div style=\"direction:rtl;text-align:right;font-family:'Amiri','Scheherazade New','Times New Roman',serif;font-size:24px;line-height:2.2\">يَٰبَنِىٓ إِسْرَٰٓءِيلَ ٱذْكُرُوا۟ نِعْمَتِىَ ٱلَّتِىٓ أَنْعَمْتُ عَلَيْكُمْ وَأَوْفُوا۟ بِعَهْدِىٓ أُوفِ بِعَهْدِكُمْ وَإِيَّٰىَ فَٱرْهَبُونِ <span style='color:#d4af37;font-size:.8em;margin-left:10px'>40</span></div><div style=\"font-family:'Inter',-apple-system,BlinkMacSystemFont,'Segoe UI',Roboto,Arial,sans-serif;font-size:16px;line-height:1.6;color:#eee\">O Children of Israel, remember My favor which I have bestowed upon you and fulfill My covenant [upon you] that I will fulfill your covenant [from Me], and be afraid of [only] Me.</div></div><div style='margin:10px 0'><div style=\"direction:rtl;text-align:right;font-family:'Amiri','Scheherazade New','Times New Roman',serif;font-size:24px;line-height:2.2\">وَءَامِنُوا۟ بِمَآ أَنزَلْتُ مُصَدِّقًۭا لِّمَا مَعَكُمْ وَلَا تَكُونُوٓا۟ أَوَّلَ كَافِرٍۭ بِهِۦ ۖ وَلَا تَشْتَرُوا۟ بِـَٔايَٰتِى ثَمَنًۭا قَلِيلًۭا وَإِيَّٰىَ فَٱتَّقُونِ <span style='color:#d4af37;font-size:.8em;margin-left:10px'>41</span></div><div style=\"font-family:'Inter',-apple-system,BlinkMacSystemFont,'Segoe UI',Roboto,Arial,sans-serif;font-size:16px;line-height:1.6;color:#eee\">And believe in what I have sent down confirming that which is [already] with you, and be not the first to disbelieve in it. And do not exchange My signs for a small price, and fear [only] Me.</div></div><div style='margin:10px 0'><div style=\"direction:rtl;text-align:right;font-family:'Amiri','Scheherazade New','Times New Roman',serif;font-size:24px;line-height:2.2\">وَلَا تَلْبِسُوا۟ ٱلْحَقَّ بِٱلْبَٰطِلِ وَتَكْتُمُوا۟ ٱلْحَقَّ وَأَنتُمْ تَعْلَمُونَ <span style='color:#d4af37;font-size:.8em;margin-left:10px'>42</span></div><div style=\"font-family:'Inter',-apple-system,BlinkMacSystemFont,'Segoe UI',Roboto,Arial,sans-serif;font-size:16px;line-height:1.6;color:#eee\">And do not mix the truth with falsehood or conceal the truth while you know [it].</div></div><div style='margin:10px 0'><div style=\"direction:rtl;text-align:right;font-family:'Amiri','Scheherazade New','Times New Roman',serif;font-size:24px;line-height:2.2\">وَأَقِيمُوا۟ ٱلصَّلَوٰةَ وَءَاتُوا۟ ٱلزَّكَوٰةَ وَٱرْكَعُوا۟ مَعَ ٱلرَّٰكِعِينَ <span style='color:#d4af37;font-size:.8em;margin-left:10px'>43</span></div><div style=\"font-family:'Inter',-apple-system,BlinkMacSystemFont,'Segoe UI',Roboto,Arial,sans-serif;font-size:16px;line-height:1.6;color:#eee\">And establish prayer and give zakah and bow with those who bow [in worship and obedience].</div></div><div style='margin:10px 0'><div style=\"direction:rtl;text-align:right;font-family:'Amiri','Scheherazade New','Times New Roman',serif;font-size:24px;line-height:2.2\">۞ أَتَأْمُرُونَ ٱلنَّاسَ بِٱلْبِرِّ وَتَنسَوْنَ أَنفُسَكُمْ وَأَنتُمْ تَتْلُونَ ٱلْكِتَٰبَ ۚ أَفَلَا تَعْقِلُونَ <span style='color:#d4af37;font-size:.8em;margin-left:10px'>44</span></div><div style=\"font-family:'Inter',-apple-system,BlinkMacSystemFont,'Segoe UI',Roboto,Arial,sans-serif;font-size:16px;line-height:1.6;color:#eee\">Do you order righteousness of the people and forget yourselves while you recite the Scripture? Then will you not reason?</div></div><div style='margin:10px 0'><div style=\"direction:rtl;text-align:right;font-family:'Amiri','Scheherazade New','Times New Roman',serif;font-size:24px;line-height:2.2\">وَٱسْتَعِينُوا۟ بِٱلصَّبْرِ وَٱلصَّلَوٰةِ ۚ وَإِنَّهَا لَكَبِيرَةٌ إِلَّا عَلَى ٱلْخَٰشِعِينَ <span style='color:#d4af37;font-size:.8em;margin-left:10px'>45</span></div><div style=\"font-family:'Inter',-apple-system,BlinkMacSystemFont,'Segoe UI',Roboto,Arial,sans-serif;font-size:16px;line-height:1.6;color:#eee\">And seek help through patience and prayer, and indeed, it is difficult except for the humbly submissive [to Allah]</div></div><div style='margin:10px 0'><div style=\"direction:rtl;text-align:right;font-family:'Amiri','Scheherazade New','Times New Roman',serif;font-size:24px;line-height:2.2\">ٱلَّذِينَ يَظُنُّونَ أَنَّهُم مُّلَٰقُوا۟ رَبِّهِمْ وَأَنَّهُمْ إِلَيْهِ رَٰجِعُونَ <span style='color:#d4af37;font-size:.8em;margin-left:10px'>46</span></div><div style=\"font-family:'Inter',-apple-system,BlinkMacSystemFont,'Segoe UI',Roboto,Arial,sans-serif;font-size:16px;line-height:1.6;color:#eee\">Who are certain that they will meet their Lord and that they will return to Him.</div></div><div style='margin:10px 0'><div style=\"direction:rtl;text-align:right;font-family:'Amiri','Scheherazade New','Times New Roman',serif;font-size:24px;line-height:2.2\">يَٰبَنِىٓ إِسْرَٰٓءِيلَ ٱذْكُرُوا۟ نِعْمَتِىَ ٱلَّتِىٓ أَنْعَمْتُ عَلَيْكُمْ وَأَنِّى فَضَّلْتُكُمْ عَلَى ٱلْعَٰلَمِينَ <span style='color:#d4af37;font-size:.8em;margin-left:10px'>47</span></div><div style=\"font-family:'Inter',-apple-system,BlinkMacSystemFont,'Segoe UI',Roboto,Arial,sans-serif;font-size:16px;line-height:1.6;color:#eee\">O Children of Israel, remember My favor that I have bestowed upon you and that I preferred you over the worlds.</div></div><div style='margin:10px 0'><div style=\"direction:rtl;text-align:right;font-family:'Amiri','Scheherazade New','Times New Roman',serif;font-size:24px;line-height:2.2\">وَٱتَّقُوا۟ يَوْمًۭا لَّا تَجْزِى نَفْسٌ عَن نَّفْسٍۢ شَيْـًۭٔا وَلَا يُقْبَلُ مِنْهَا شَفَٰعَةٌۭ وَلَا يُؤْخَذُ مِنْهَا عَدْلٌۭ وَلَا هُمْ يُنصَرُونَ <span style='color:#d4af37;font-size:.8em;margin-left:10px'>48</span></div><div style=\"font-family:'Inter',-apple-system,BlinkMacSystemFont,'Segoe UI',Roboto,Arial,sans-serif;font-size:16px;line-height:1.6;color:#eee\">And fear a Day when no soul will suffice for another soul at all, nor will intercession be accepted from it, nor will compensation be taken from it, nor will they be aided.</div></div></div>\n"
            ],
            "text/plain": [
              "<IPython.core.display.HTML object>"
            ]
          },
          "metadata": {},
          "output_type": "display_data"
        }
      ],
      "source": [
        "import requests\n",
        "from IPython.display import display, HTML\n",
        "page = 7\n",
        "ar = requests.get(f\"http://api.alquran.cloud/v1/page/{page}/quran-uthmani\").json()[\"data\"][\"ayahs\"]\n",
        "en = requests.get(f\"http://api.alquran.cloud/v1/page/{page}/en.sahih\").json()[\"data\"][\"ayahs\"]\n",
        "s = []\n",
        "for a,e in zip(ar,en):\n",
        "    s.append(f\"<div style='margin:10px 0'><div style=\\\"direction:rtl;text-align:right;font-family:'Amiri','Scheherazade New','Times New Roman',serif;font-size:24px;line-height:2.2\\\">{a['text']} <span style='color:#d4af37;font-size:.8em;margin-left:10px'>{a['numberInSurah']}</span></div><div style=\\\"font-family:'Inter',-apple-system,BlinkMacSystemFont,'Segoe UI',Roboto,Arial,sans-serif;font-size:16px;line-height:1.6;color:#eee\\\">{e['text']}</div></div>\")\n",
        "html = f\"\"\"\n",
        "<div style=\"background:#1e293b;padding:16px;border-radius:10px\">{''.join(s)}</div>\n",
        "\"\"\"\n",
        "display(HTML(html))\n"
      ]
    },
    {
      "cell_type": "code",
      "execution_count": 25,
      "metadata": {},
      "outputs": [
        {
          "data": {
            "application/javascript": "\n    var element = document.createElement('div');\n    element.innerHTML = `\n    <div style=\"background:#1e293b;padding:16px;border-radius:10px;width:800px\"><div style='margin:10px 0'><div style=\"direction:rtl;text-align:right;font-family:'Amiri','Scheherazade New','Times New Roman',serif;font-size:24px;line-height:2.2\">قُلْنَا ٱهْبِطُوا۟ مِنْهَا جَمِيعًۭا ۖ فَإِمَّا يَأْتِيَنَّكُم مِّنِّى هُدًۭى فَمَن تَبِعَ هُدَاىَ فَلَا خَوْفٌ عَلَيْهِمْ وَلَا هُمْ يَحْزَنُونَ <span style='color:#d4af37;font-size:.8em;margin-left:10px'>38</span></div><div style=\"font-family:'Inter',-apple-system,BlinkMacSystemFont,'Segoe UI',Roboto,Arial,sans-serif;font-size:16px;line-height:1.6;color:#eee\">We said, \"Go down from it, all of you. And when guidance comes to you from Me, whoever follows My guidance - there will be no fear concerning them, nor will they grieve.</div></div><div style='margin:10px 0'><div style=\"direction:rtl;text-align:right;font-family:'Amiri','Scheherazade New','Times New Roman',serif;font-size:24px;line-height:2.2\">وَٱلَّذِينَ كَفَرُوا۟ وَكَذَّبُوا۟ بِـَٔايَٰتِنَآ أُو۟لَٰٓئِكَ أَصْحَٰبُ ٱلنَّارِ ۖ هُمْ فِيهَا خَٰلِدُونَ <span style='color:#d4af37;font-size:.8em;margin-left:10px'>39</span></div><div style=\"font-family:'Inter',-apple-system,BlinkMacSystemFont,'Segoe UI',Roboto,Arial,sans-serif;font-size:16px;line-height:1.6;color:#eee\">And those who disbelieve and deny Our signs - those will be companions of the Fire; they will abide therein eternally.\"</div></div><div style='margin:10px 0'><div style=\"direction:rtl;text-align:right;font-family:'Amiri','Scheherazade New','Times New Roman',serif;font-size:24px;line-height:2.2\">يَٰبَنِىٓ إِسْرَٰٓءِيلَ ٱذْكُرُوا۟ نِعْمَتِىَ ٱلَّتِىٓ أَنْعَمْتُ عَلَيْكُمْ وَأَوْفُوا۟ بِعَهْدِىٓ أُوفِ بِعَهْدِكُمْ وَإِيَّٰىَ فَٱرْهَبُونِ <span style='color:#d4af37;font-size:.8em;margin-left:10px'>40</span></div><div style=\"font-family:'Inter',-apple-system,BlinkMacSystemFont,'Segoe UI',Roboto,Arial,sans-serif;font-size:16px;line-height:1.6;color:#eee\">O Children of Israel, remember My favor which I have bestowed upon you and fulfill My covenant [upon you] that I will fulfill your covenant [from Me], and be afraid of [only] Me.</div></div><div style='margin:10px 0'><div style=\"direction:rtl;text-align:right;font-family:'Amiri','Scheherazade New','Times New Roman',serif;font-size:24px;line-height:2.2\">وَءَامِنُوا۟ بِمَآ أَنزَلْتُ مُصَدِّقًۭا لِّمَا مَعَكُمْ وَلَا تَكُونُوٓا۟ أَوَّلَ كَافِرٍۭ بِهِۦ ۖ وَلَا تَشْتَرُوا۟ بِـَٔايَٰتِى ثَمَنًۭا قَلِيلًۭا وَإِيَّٰىَ فَٱتَّقُونِ <span style='color:#d4af37;font-size:.8em;margin-left:10px'>41</span></div><div style=\"font-family:'Inter',-apple-system,BlinkMacSystemFont,'Segoe UI',Roboto,Arial,sans-serif;font-size:16px;line-height:1.6;color:#eee\">And believe in what I have sent down confirming that which is [already] with you, and be not the first to disbelieve in it. And do not exchange My signs for a small price, and fear [only] Me.</div></div><div style='margin:10px 0'><div style=\"direction:rtl;text-align:right;font-family:'Amiri','Scheherazade New','Times New Roman',serif;font-size:24px;line-height:2.2\">وَلَا تَلْبِسُوا۟ ٱلْحَقَّ بِٱلْبَٰطِلِ وَتَكْتُمُوا۟ ٱلْحَقَّ وَأَنتُمْ تَعْلَمُونَ <span style='color:#d4af37;font-size:.8em;margin-left:10px'>42</span></div><div style=\"font-family:'Inter',-apple-system,BlinkMacSystemFont,'Segoe UI',Roboto,Arial,sans-serif;font-size:16px;line-height:1.6;color:#eee\">And do not mix the truth with falsehood or conceal the truth while you know [it].</div></div><div style='margin:10px 0'><div style=\"direction:rtl;text-align:right;font-family:'Amiri','Scheherazade New','Times New Roman',serif;font-size:24px;line-height:2.2\">وَأَقِيمُوا۟ ٱلصَّلَوٰةَ وَءَاتُوا۟ ٱلزَّكَوٰةَ وَٱرْكَعُوا۟ مَعَ ٱلرَّٰكِعِينَ <span style='color:#d4af37;font-size:.8em;margin-left:10px'>43</span></div><div style=\"font-family:'Inter',-apple-system,BlinkMacSystemFont,'Segoe UI',Roboto,Arial,sans-serif;font-size:16px;line-height:1.6;color:#eee\">And establish prayer and give zakah and bow with those who bow [in worship and obedience].</div></div><div style='margin:10px 0'><div style=\"direction:rtl;text-align:right;font-family:'Amiri','Scheherazade New','Times New Roman',serif;font-size:24px;line-height:2.2\">۞ أَتَأْمُرُونَ ٱلنَّاسَ بِٱلْبِرِّ وَتَنسَوْنَ أَنفُسَكُمْ وَأَنتُمْ تَتْلُونَ ٱلْكِتَٰبَ ۚ أَفَلَا تَعْقِلُونَ <span style='color:#d4af37;font-size:.8em;margin-left:10px'>44</span></div><div style=\"font-family:'Inter',-apple-system,BlinkMacSystemFont,'Segoe UI',Roboto,Arial,sans-serif;font-size:16px;line-height:1.6;color:#eee\">Do you order righteousness of the people and forget yourselves while you recite the Scripture? Then will you not reason?</div></div><div style='margin:10px 0'><div style=\"direction:rtl;text-align:right;font-family:'Amiri','Scheherazade New','Times New Roman',serif;font-size:24px;line-height:2.2\">وَٱسْتَعِينُوا۟ بِٱلصَّبْرِ وَٱلصَّلَوٰةِ ۚ وَإِنَّهَا لَكَبِيرَةٌ إِلَّا عَلَى ٱلْخَٰشِعِينَ <span style='color:#d4af37;font-size:.8em;margin-left:10px'>45</span></div><div style=\"font-family:'Inter',-apple-system,BlinkMacSystemFont,'Segoe UI',Roboto,Arial,sans-serif;font-size:16px;line-height:1.6;color:#eee\">And seek help through patience and prayer, and indeed, it is difficult except for the humbly submissive [to Allah]</div></div><div style='margin:10px 0'><div style=\"direction:rtl;text-align:right;font-family:'Amiri','Scheherazade New','Times New Roman',serif;font-size:24px;line-height:2.2\">ٱلَّذِينَ يَظُنُّونَ أَنَّهُم مُّلَٰقُوا۟ رَبِّهِمْ وَأَنَّهُمْ إِلَيْهِ رَٰجِعُونَ <span style='color:#d4af37;font-size:.8em;margin-left:10px'>46</span></div><div style=\"font-family:'Inter',-apple-system,BlinkMacSystemFont,'Segoe UI',Roboto,Arial,sans-serif;font-size:16px;line-height:1.6;color:#eee\">Who are certain that they will meet their Lord and that they will return to Him.</div></div><div style='margin:10px 0'><div style=\"direction:rtl;text-align:right;font-family:'Amiri','Scheherazade New','Times New Roman',serif;font-size:24px;line-height:2.2\">يَٰبَنِىٓ إِسْرَٰٓءِيلَ ٱذْكُرُوا۟ نِعْمَتِىَ ٱلَّتِىٓ أَنْعَمْتُ عَلَيْكُمْ وَأَنِّى فَضَّلْتُكُمْ عَلَى ٱلْعَٰلَمِينَ <span style='color:#d4af37;font-size:.8em;margin-left:10px'>47</span></div><div style=\"font-family:'Inter',-apple-system,BlinkMacSystemFont,'Segoe UI',Roboto,Arial,sans-serif;font-size:16px;line-height:1.6;color:#eee\">O Children of Israel, remember My favor that I have bestowed upon you and that I preferred you over the worlds.</div></div><div style='margin:10px 0'><div style=\"direction:rtl;text-align:right;font-family:'Amiri','Scheherazade New','Times New Roman',serif;font-size:24px;line-height:2.2\">وَٱتَّقُوا۟ يَوْمًۭا لَّا تَجْزِى نَفْسٌ عَن نَّفْسٍۢ شَيْـًۭٔا وَلَا يُقْبَلُ مِنْهَا شَفَٰعَةٌۭ وَلَا يُؤْخَذُ مِنْهَا عَدْلٌۭ وَلَا هُمْ يُنصَرُونَ <span style='color:#d4af37;font-size:.8em;margin-left:10px'>48</span></div><div style=\"font-family:'Inter',-apple-system,BlinkMacSystemFont,'Segoe UI',Roboto,Arial,sans-serif;font-size:16px;line-height:1.6;color:#eee\">And fear a Day when no soul will suffice for another soul at all, nor will intercession be accepted from it, nor will compensation be taken from it, nor will they be aided.</div></div></div>\n    `;\n    element.style.position = 'absolute';\n    element.style.left = '-9999px';\n    element.style.top = '-9999px';\n    document.body.appendChild(element);\n    \n    html2canvas(element).then(canvas => {\n        var link = document.createElement('a');\n        link.download = 'quran_page_7.png';\n        link.href = canvas.toDataURL();\n        link.click();\n        document.body.removeChild(element);\n    });\n    ",
            "text/plain": [
              "<IPython.core.display.Javascript object>"
            ]
          },
          "metadata": {},
          "output_type": "display_data"
        }
      ],
      "source": [
        "import base64\n",
        "from IPython.display import HTML, Javascript\n",
        "\n",
        "def save_as_image(html_content, filename):\n",
        "    js_code = f\"\"\"\n",
        "    var element = document.createElement('div');\n",
        "    element.innerHTML = `{html_content}`;\n",
        "    element.style.position = 'absolute';\n",
        "    element.style.left = '-9999px';\n",
        "    element.style.top = '-9999px';\n",
        "    document.body.appendChild(element);\n",
        "    \n",
        "    html2canvas(element).then(canvas => {{\n",
        "        var link = document.createElement('a');\n",
        "        link.download = '{filename}';\n",
        "        link.href = canvas.toDataURL();\n",
        "        link.click();\n",
        "        document.body.removeChild(element);\n",
        "    }});\n",
        "    \"\"\"\n",
        "    \n",
        "    display(Javascript(js_code))\n",
        "\n",
        "def save_page_as_image(page_num):\n",
        "    ar = requests.get(f\"http://api.alquran.cloud/v1/page/{page_num}/quran-uthmani\").json()[\"data\"][\"ayahs\"]\n",
        "    en = requests.get(f\"http://api.alquran.cloud/v1/page/{page_num}/en.sahih\").json()[\"data\"][\"ayahs\"]\n",
        "    \n",
        "    s = []\n",
        "    for a,e in zip(ar,en):\n",
        "        s.append(f\"<div style='margin:10px 0'><div style=\\\"direction:rtl;text-align:right;font-family:'Amiri','Scheherazade New','Times New Roman',serif;font-size:24px;line-height:2.2\\\">{a['text']} <span style='color:#d4af37;font-size:.8em;margin-left:10px'>{a['numberInSurah']}</span></div><div style=\\\"font-family:'Inter',-apple-system,BlinkMacSystemFont,'Segoe UI',Roboto,Arial,sans-serif;font-size:16px;line-height:1.6;color:#eee\\\">{e['text']}</div></div>\")\n",
        "    \n",
        "    html = f\"\"\"\n",
        "    <div style=\"background:#1e293b;padding:16px;border-radius:10px;width:800px\">{''.join(s)}</div>\n",
        "    \"\"\"\n",
        "    \n",
        "    save_as_image(html, f\"quran_page_{page_num}.png\")\n",
        "\n",
        "save_page_as_image(7)\n"
      ]
    },
    {
      "cell_type": "code",
      "execution_count": 26,
      "metadata": {},
      "outputs": [
        {
          "name": "stdout",
          "output_type": "stream",
          "text": [
            "❌ wkhtmltoimage not found. Installing...\n"
          ]
        },
        {
          "name": "stderr",
          "output_type": "stream",
          "text": [
            "==> Auto-updating Homebrew...\n",
            "Adjust how often this is run with `$HOMEBREW_AUTO_UPDATE_SECS` or disable with\n",
            "`$HOMEBREW_NO_AUTO_UPDATE=1`. Hide these hints with `$HOMEBREW_NO_ENV_HINTS=1` (see `man brew`).\n",
            "==> Auto-updated Homebrew!\n",
            "Updated 2 taps (homebrew/core and homebrew/cask).\n",
            "==> New Formulae\n",
            "addlicense: Scan directories recursively to ensure source files have license headers\n",
            "anchor: Solana Program Framework\n",
            "bom: Utility to generate SPDX-compliant Bill of Materials manifests\n",
            "changelogen: Generate Beautiful Changelogs using Conventional Commits\n",
            "claude-cmd: Claude Code Commands Manager\n",
            "claude-hooks: Hook system for Claude Code\n",
            "codebook-lsp: Code-aware spell checker language server\n",
            "context7-mcp: Up-to-date code documentation for LLMs and AI code editors\n",
            "docker-compose-langserver: Language service for Docker Compose documents\n",
            "dqlite: Embeddable, replicated and fault-tolerant SQLite-powered engine\n",
            "dstp: Run common networking tests against your site\n",
            "gitingest: Turn any Git repository into a prompt-friendly text ingest for LLMs\n",
            "gphotos-uploader-cli: Command-line tool to mass upload media folders to Google Photos\n",
            "igrep: Interactive grep\n",
            "krane: Kubernetes deploy tool with rollout verification\n",
            "kubernetes-cli@1.33: Kubernetes command-line interface\n",
            "lazycontainer: Terminal UI for Apple Containers\n",
            "libselinux: SELinux library and simple utilities\n",
            "libsepol: SELinux binary policy manipulation library\n",
            "mariadb@11.8: Drop-in replacement for MySQL\n",
            "mcp-publisher: Publisher CLI tool for the Official Model Context Protocol (MCP) Registry\n",
            "mcp-server-kubernetes: MCP Server for kubernetes management commands\n",
            "moribito: TUI for LDAP Viewing/Queries\n",
            "nanoarrow: Helpers for Arrow C Data & Arrow C Stream interfaces\n",
            "nextflow: Reproducible scientific workflows\n",
            "openapv: Open Advanced Professional Video Codec\n",
            "opencode: AI coding agent, built for the terminal\n",
            "plutobook: Paged HTML Rendering Library\n",
            "plutoprint: Generate PDFs and Images from HTML\n",
            "recur: Retry a command with exponential backoff and jitter\n",
            "seqan3: Modern C++ library for sequence analysis\n",
            "shimmy: Small local inference server with OpenAI-compatible GGUF endpoints\n",
            "specify: Toolkit to help you get started with Spec-Driven Development\n",
            "terratag: CLI to automate tagging for AWS, Azure & GCP resources in Terraform\n",
            "tiny-remapper: Tiny, efficient tool for remapping JAR files using \"Tiny\"-format mappings\n",
            "tkrzw: Set of implementations of DBM\n",
            "tombi: TOML formatter, linter and language server\n",
            "tweakcc: Customize your Claude Code themes, thinking verbs, and more\n",
            "volcano-cli: CLI for Volcano, Cloud Native Batch System\n",
            "\n",
            "You have 3 outdated formulae installed.\n",
            "\n"
          ]
        },
        {
          "name": "stdout",
          "output_type": "stream",
          "text": [
            "❌ Could not install wkhtmltoimage. Please install manually:\n",
            "brew install wkhtmltopdf\n",
            "Then run: wkhtmltoimage /var/folders/bk/50ynwg0s2vv4khkm404pgghc0000gn/T/tmp5ltu_n72.html quran_page_7.png\n"
          ]
        },
        {
          "name": "stderr",
          "output_type": "stream",
          "text": [
            "Error: Cask 'wkhtmltopdf' has been disabled because it is discontinued upstream! It was disabled on 2024-12-16.\n"
          ]
        }
      ],
      "source": [
        "import os\n",
        "import subprocess\n",
        "import tempfile\n",
        "\n",
        "def save_page_as_image(page_num):\n",
        "    ar = requests.get(f\"http://api.alquran.cloud/v1/page/{page_num}/quran-uthmani\").json()[\"data\"][\"ayahs\"]\n",
        "    en = requests.get(f\"http://api.alquran.cloud/v1/page/{page_num}/en.sahih\").json()[\"data\"][\"ayahs\"]\n",
        "    \n",
        "    s = []\n",
        "    for a,e in zip(ar,en):\n",
        "        s.append(f\"<div style='margin:10px 0'><div style=\\\"direction:rtl;text-align:right;font-family:'Amiri','Scheherazade New','Times New Roman',serif;font-size:24px;line-height:2.2\\\">{a['text']} <span style='color:#d4af37;font-size:.8em;margin-left:10px'>{a['numberInSurah']}</span></div><div style=\\\"font-family:'Inter',-apple-system,BlinkMacSystemFont,'Segoe UI',Roboto,Arial,sans-serif;font-size:16px;line-height:1.6;color:#eee\\\">{e['text']}</div></div>\")\n",
        "    \n",
        "    html_content = f\"\"\"\n",
        "    <!DOCTYPE html>\n",
        "    <html>\n",
        "    <head>\n",
        "        <meta charset=\"UTF-8\">\n",
        "        <link href=\"https://fonts.googleapis.com/css2?family=Amiri:wght@400;700&family=Scheherazade+New:wght@400;700&display=swap\" rel=\"stylesheet\">\n",
        "        <style>\n",
        "            body {{ margin: 0; padding: 20px; background: #1e293b; color: white; }}\n",
        "        </style>\n",
        "    </head>\n",
        "    <body>\n",
        "        <div style=\"background:#1e293b;padding:16px;border-radius:10px;width:800px\">{''.join(s)}</div>\n",
        "    </body>\n",
        "    </html>\n",
        "    \"\"\"\n",
        "    \n",
        "    with tempfile.NamedTemporaryFile(mode='w', suffix='.html', delete=False, encoding='utf-8') as f:\n",
        "        f.write(html_content)\n",
        "        html_file = f.name\n",
        "    \n",
        "    output_file = f\"quran_page_{page_num}.png\"\n",
        "    \n",
        "    try:\n",
        "        subprocess.run([\n",
        "            \"wkhtmltoimage\", \n",
        "            \"--width\", \"1000\",\n",
        "            \"--height\", \"1400\",\n",
        "            \"--format\", \"png\",\n",
        "            html_file, \n",
        "            output_file\n",
        "        ], check=True)\n",
        "        print(f\"✅ Image saved as {output_file}\")\n",
        "        os.unlink(html_file)\n",
        "    except (subprocess.CalledProcessError, FileNotFoundError):\n",
        "        print(\"❌ wkhtmltoimage not found. Installing...\")\n",
        "        try:\n",
        "            subprocess.run([\"brew\", \"install\", \"wkhtmltopdf\"], check=True)\n",
        "            subprocess.run([\n",
        "                \"wkhtmltoimage\", \n",
        "                \"--width\", \"1000\",\n",
        "                \"--height\", \"1400\", \n",
        "                \"--format\", \"png\",\n",
        "                html_file, \n",
        "                output_file\n",
        "            ], check=True)\n",
        "            print(f\"✅ Image saved as {output_file}\")\n",
        "            os.unlink(html_file)\n",
        "        except:\n",
        "            print(\"❌ Could not install wkhtmltoimage. Please install manually:\")\n",
        "            print(\"brew install wkhtmltopdf\")\n",
        "            print(f\"Then run: wkhtmltoimage {html_file} {output_file}\")\n",
        "\n",
        "save_page_as_image(7)\n"
      ]
    }
  ],
  "metadata": {
    "kernelspec": {
      "display_name": "Python 3",
      "language": "python",
      "name": "python3"
    },
    "language_info": {
      "codemirror_mode": {
        "name": "ipython",
        "version": 3
      },
      "file_extension": ".py",
      "mimetype": "text/x-python",
      "name": "python",
      "nbconvert_exporter": "python",
      "pygments_lexer": "ipython3",
      "version": "3.9.6"
    }
  },
  "nbformat": 4,
  "nbformat_minor": 2
}
