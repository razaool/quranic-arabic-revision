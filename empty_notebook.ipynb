{
  "cells": [
    {
      "cell_type": "code",
      "execution_count": 50,
      "metadata": {},
      "outputs": [
        {
          "data": {
            "text/html": [
              "\n",
              "<div style=\"direction:rtl;text-align:right;font-family:'Amiri','Scheherazade New','Times New Roman',serif;font-size:28px;line-height:2.4\">\n",
              "﻿بِسْمِ ٱللَّهِ ٱلرَّحْمَٰنِ ٱلرَّحِيمِ <span style='color:#d4af37;font-size:.8em;margin-left:12px'>1</span> ٱلْحَمْدُ لِلَّهِ رَبِّ ٱلْعَٰلَمِينَ <span style='color:#d4af37;font-size:.8em;margin-left:12px'>2</span> ٱلرَّحْمَٰنِ ٱلرَّحِيمِ <span style='color:#d4af37;font-size:.8em;margin-left:12px'>3</span> مَٰلِكِ يَوْمِ ٱلدِّينِ <span style='color:#d4af37;font-size:.8em;margin-left:12px'>4</span> إِيَّاكَ نَعْبُدُ وَإِيَّاكَ نَسْتَعِينُ <span style='color:#d4af37;font-size:.8em;margin-left:12px'>5</span> ٱهْدِنَا ٱلصِّرَٰطَ ٱلْمُسْتَقِيمَ <span style='color:#d4af37;font-size:.8em;margin-left:12px'>6</span> صِرَٰطَ ٱلَّذِينَ أَنْعَمْتَ عَلَيْهِمْ غَيْرِ ٱلْمَغْضُوبِ عَلَيْهِمْ وَلَا ٱلضَّآلِّينَ <span style='color:#d4af37;font-size:.8em;margin-left:12px'>7</span>\n",
              "</div>\n"
            ],
            "text/plain": [
              "<IPython.core.display.HTML object>"
            ]
          },
          "metadata": {},
          "output_type": "display_data"
        }
      ],
      "source": [
        "import requests\n",
        "from IPython.display import display, HTML\n",
        "page = 1\n",
        "r = requests.get(f\"http://api.alquran.cloud/v1/page/{page}/quran-uthmani\")\n",
        "d = r.json()[\"data\"]\n",
        "a = []\n",
        "for ayah in d[\"ayahs\"]:\n",
        "    a.append(f\"{ayah['text']} <span style='color:#d4af37;font-size:.8em;margin-left:12px'>{ayah['numberInSurah']}</span>\")\n",
        "html = f\"\"\"\n",
        "<div style=\"direction:rtl;text-align:right;font-family:'Amiri','Scheherazade New','Times New Roman',serif;font-size:28px;line-height:2.4\">\n",
        "{ ' '.join(a) }\n",
        "</div>\n",
        "\"\"\"\n",
        "display(HTML(html))\n"
      ]
    },
    {
      "cell_type": "code",
      "execution_count": 51,
      "metadata": {},
      "outputs": [
        {
          "data": {
            "text/html": [
              "\n",
              "<div style=\"background:#1e293b;padding:16px;border-radius:10px\"><div style='margin:10px 0'><div style=\"direction:rtl;text-align:right;font-family:'Amiri','Scheherazade New','Times New Roman',serif;font-size:24px;line-height:2.2\">﻿بِسْمِ ٱللَّهِ ٱلرَّحْمَٰنِ ٱلرَّحِيمِ <span style='color:#d4af37;font-size:.8em;margin-left:10px'>1</span></div><div style=\"font-family:'Inter',-apple-system,BlinkMacSystemFont,'Segoe UI',Roboto,Arial,sans-serif;font-size:16px;line-height:1.6;color:#eee\">In the name of Allah, the Entirely Merciful, the Especially Merciful.</div></div><div style='margin:10px 0'><div style=\"direction:rtl;text-align:right;font-family:'Amiri','Scheherazade New','Times New Roman',serif;font-size:24px;line-height:2.2\">ٱلْحَمْدُ لِلَّهِ رَبِّ ٱلْعَٰلَمِينَ <span style='color:#d4af37;font-size:.8em;margin-left:10px'>2</span></div><div style=\"font-family:'Inter',-apple-system,BlinkMacSystemFont,'Segoe UI',Roboto,Arial,sans-serif;font-size:16px;line-height:1.6;color:#eee\">[All] praise is [due] to Allah, Lord of the worlds -</div></div><div style='margin:10px 0'><div style=\"direction:rtl;text-align:right;font-family:'Amiri','Scheherazade New','Times New Roman',serif;font-size:24px;line-height:2.2\">ٱلرَّحْمَٰنِ ٱلرَّحِيمِ <span style='color:#d4af37;font-size:.8em;margin-left:10px'>3</span></div><div style=\"font-family:'Inter',-apple-system,BlinkMacSystemFont,'Segoe UI',Roboto,Arial,sans-serif;font-size:16px;line-height:1.6;color:#eee\">The Entirely Merciful, the Especially Merciful,</div></div><div style='margin:10px 0'><div style=\"direction:rtl;text-align:right;font-family:'Amiri','Scheherazade New','Times New Roman',serif;font-size:24px;line-height:2.2\">مَٰلِكِ يَوْمِ ٱلدِّينِ <span style='color:#d4af37;font-size:.8em;margin-left:10px'>4</span></div><div style=\"font-family:'Inter',-apple-system,BlinkMacSystemFont,'Segoe UI',Roboto,Arial,sans-serif;font-size:16px;line-height:1.6;color:#eee\">Sovereign of the Day of Recompense.</div></div><div style='margin:10px 0'><div style=\"direction:rtl;text-align:right;font-family:'Amiri','Scheherazade New','Times New Roman',serif;font-size:24px;line-height:2.2\">إِيَّاكَ نَعْبُدُ وَإِيَّاكَ نَسْتَعِينُ <span style='color:#d4af37;font-size:.8em;margin-left:10px'>5</span></div><div style=\"font-family:'Inter',-apple-system,BlinkMacSystemFont,'Segoe UI',Roboto,Arial,sans-serif;font-size:16px;line-height:1.6;color:#eee\">It is You we worship and You we ask for help.</div></div><div style='margin:10px 0'><div style=\"direction:rtl;text-align:right;font-family:'Amiri','Scheherazade New','Times New Roman',serif;font-size:24px;line-height:2.2\">ٱهْدِنَا ٱلصِّرَٰطَ ٱلْمُسْتَقِيمَ <span style='color:#d4af37;font-size:.8em;margin-left:10px'>6</span></div><div style=\"font-family:'Inter',-apple-system,BlinkMacSystemFont,'Segoe UI',Roboto,Arial,sans-serif;font-size:16px;line-height:1.6;color:#eee\">Guide us to the straight path -</div></div><div style='margin:10px 0'><div style=\"direction:rtl;text-align:right;font-family:'Amiri','Scheherazade New','Times New Roman',serif;font-size:24px;line-height:2.2\">صِرَٰطَ ٱلَّذِينَ أَنْعَمْتَ عَلَيْهِمْ غَيْرِ ٱلْمَغْضُوبِ عَلَيْهِمْ وَلَا ٱلضَّآلِّينَ <span style='color:#d4af37;font-size:.8em;margin-left:10px'>7</span></div><div style=\"font-family:'Inter',-apple-system,BlinkMacSystemFont,'Segoe UI',Roboto,Arial,sans-serif;font-size:16px;line-height:1.6;color:#eee\">The path of those upon whom You have bestowed favor, not of those who have evoked [Your] anger or of those who are astray.</div></div></div>\n"
            ],
            "text/plain": [
              "<IPython.core.display.HTML object>"
            ]
          },
          "metadata": {},
          "output_type": "display_data"
        }
      ],
      "source": [
        "import requests\n",
        "from IPython.display import display, HTML\n",
        "page = 1\n",
        "ar = requests.get(f\"http://api.alquran.cloud/v1/page/{page}/quran-uthmani\").json()[\"data\"][\"ayahs\"]\n",
        "en = requests.get(f\"http://api.alquran.cloud/v1/page/{page}/en.sahih\").json()[\"data\"][\"ayahs\"]\n",
        "s = []\n",
        "for a,e in zip(ar,en):\n",
        "    s.append(f\"<div style='margin:10px 0'><div style=\\\"direction:rtl;text-align:right;font-family:'Amiri','Scheherazade New','Times New Roman',serif;font-size:24px;line-height:2.2\\\">{a['text']} <span style='color:#d4af37;font-size:.8em;margin-left:10px'>{a['numberInSurah']}</span></div><div style=\\\"font-family:'Inter',-apple-system,BlinkMacSystemFont,'Segoe UI',Roboto,Arial,sans-serif;font-size:16px;line-height:1.6;color:#eee\\\">{e['text']}</div></div>\")\n",
        "html = f\"\"\"\n",
        "<div style=\"background:#1e293b;padding:16px;border-radius:10px\">{''.join(s)}</div>\n",
        "\"\"\"\n",
        "display(HTML(html))\n"
      ]
    },
    {
      "cell_type": "code",
      "execution_count": 52,
      "metadata": {},
      "outputs": [
        {
          "data": {
            "application/javascript": "\n    var element = document.createElement('div');\n    element.innerHTML = `\n    <div style=\"background:#1e293b;padding:16px;border-radius:10px;width:800px\"><div style='margin:10px 0'><div style=\"direction:rtl;text-align:right;font-family:'Amiri','Scheherazade New','Times New Roman',serif;font-size:24px;line-height:2.2\">قُلْنَا ٱهْبِطُوا۟ مِنْهَا جَمِيعًۭا ۖ فَإِمَّا يَأْتِيَنَّكُم مِّنِّى هُدًۭى فَمَن تَبِعَ هُدَاىَ فَلَا خَوْفٌ عَلَيْهِمْ وَلَا هُمْ يَحْزَنُونَ <span style='color:#d4af37;font-size:.8em;margin-left:10px'>38</span></div><div style=\"font-family:'Inter',-apple-system,BlinkMacSystemFont,'Segoe UI',Roboto,Arial,sans-serif;font-size:16px;line-height:1.6;color:#eee\">We said, \"Go down from it, all of you. And when guidance comes to you from Me, whoever follows My guidance - there will be no fear concerning them, nor will they grieve.</div></div><div style='margin:10px 0'><div style=\"direction:rtl;text-align:right;font-family:'Amiri','Scheherazade New','Times New Roman',serif;font-size:24px;line-height:2.2\">وَٱلَّذِينَ كَفَرُوا۟ وَكَذَّبُوا۟ بِـَٔايَٰتِنَآ أُو۟لَٰٓئِكَ أَصْحَٰبُ ٱلنَّارِ ۖ هُمْ فِيهَا خَٰلِدُونَ <span style='color:#d4af37;font-size:.8em;margin-left:10px'>39</span></div><div style=\"font-family:'Inter',-apple-system,BlinkMacSystemFont,'Segoe UI',Roboto,Arial,sans-serif;font-size:16px;line-height:1.6;color:#eee\">And those who disbelieve and deny Our signs - those will be companions of the Fire; they will abide therein eternally.\"</div></div><div style='margin:10px 0'><div style=\"direction:rtl;text-align:right;font-family:'Amiri','Scheherazade New','Times New Roman',serif;font-size:24px;line-height:2.2\">يَٰبَنِىٓ إِسْرَٰٓءِيلَ ٱذْكُرُوا۟ نِعْمَتِىَ ٱلَّتِىٓ أَنْعَمْتُ عَلَيْكُمْ وَأَوْفُوا۟ بِعَهْدِىٓ أُوفِ بِعَهْدِكُمْ وَإِيَّٰىَ فَٱرْهَبُونِ <span style='color:#d4af37;font-size:.8em;margin-left:10px'>40</span></div><div style=\"font-family:'Inter',-apple-system,BlinkMacSystemFont,'Segoe UI',Roboto,Arial,sans-serif;font-size:16px;line-height:1.6;color:#eee\">O Children of Israel, remember My favor which I have bestowed upon you and fulfill My covenant [upon you] that I will fulfill your covenant [from Me], and be afraid of [only] Me.</div></div><div style='margin:10px 0'><div style=\"direction:rtl;text-align:right;font-family:'Amiri','Scheherazade New','Times New Roman',serif;font-size:24px;line-height:2.2\">وَءَامِنُوا۟ بِمَآ أَنزَلْتُ مُصَدِّقًۭا لِّمَا مَعَكُمْ وَلَا تَكُونُوٓا۟ أَوَّلَ كَافِرٍۭ بِهِۦ ۖ وَلَا تَشْتَرُوا۟ بِـَٔايَٰتِى ثَمَنًۭا قَلِيلًۭا وَإِيَّٰىَ فَٱتَّقُونِ <span style='color:#d4af37;font-size:.8em;margin-left:10px'>41</span></div><div style=\"font-family:'Inter',-apple-system,BlinkMacSystemFont,'Segoe UI',Roboto,Arial,sans-serif;font-size:16px;line-height:1.6;color:#eee\">And believe in what I have sent down confirming that which is [already] with you, and be not the first to disbelieve in it. And do not exchange My signs for a small price, and fear [only] Me.</div></div><div style='margin:10px 0'><div style=\"direction:rtl;text-align:right;font-family:'Amiri','Scheherazade New','Times New Roman',serif;font-size:24px;line-height:2.2\">وَلَا تَلْبِسُوا۟ ٱلْحَقَّ بِٱلْبَٰطِلِ وَتَكْتُمُوا۟ ٱلْحَقَّ وَأَنتُمْ تَعْلَمُونَ <span style='color:#d4af37;font-size:.8em;margin-left:10px'>42</span></div><div style=\"font-family:'Inter',-apple-system,BlinkMacSystemFont,'Segoe UI',Roboto,Arial,sans-serif;font-size:16px;line-height:1.6;color:#eee\">And do not mix the truth with falsehood or conceal the truth while you know [it].</div></div><div style='margin:10px 0'><div style=\"direction:rtl;text-align:right;font-family:'Amiri','Scheherazade New','Times New Roman',serif;font-size:24px;line-height:2.2\">وَأَقِيمُوا۟ ٱلصَّلَوٰةَ وَءَاتُوا۟ ٱلزَّكَوٰةَ وَٱرْكَعُوا۟ مَعَ ٱلرَّٰكِعِينَ <span style='color:#d4af37;font-size:.8em;margin-left:10px'>43</span></div><div style=\"font-family:'Inter',-apple-system,BlinkMacSystemFont,'Segoe UI',Roboto,Arial,sans-serif;font-size:16px;line-height:1.6;color:#eee\">And establish prayer and give zakah and bow with those who bow [in worship and obedience].</div></div><div style='margin:10px 0'><div style=\"direction:rtl;text-align:right;font-family:'Amiri','Scheherazade New','Times New Roman',serif;font-size:24px;line-height:2.2\">۞ أَتَأْمُرُونَ ٱلنَّاسَ بِٱلْبِرِّ وَتَنسَوْنَ أَنفُسَكُمْ وَأَنتُمْ تَتْلُونَ ٱلْكِتَٰبَ ۚ أَفَلَا تَعْقِلُونَ <span style='color:#d4af37;font-size:.8em;margin-left:10px'>44</span></div><div style=\"font-family:'Inter',-apple-system,BlinkMacSystemFont,'Segoe UI',Roboto,Arial,sans-serif;font-size:16px;line-height:1.6;color:#eee\">Do you order righteousness of the people and forget yourselves while you recite the Scripture? Then will you not reason?</div></div><div style='margin:10px 0'><div style=\"direction:rtl;text-align:right;font-family:'Amiri','Scheherazade New','Times New Roman',serif;font-size:24px;line-height:2.2\">وَٱسْتَعِينُوا۟ بِٱلصَّبْرِ وَٱلصَّلَوٰةِ ۚ وَإِنَّهَا لَكَبِيرَةٌ إِلَّا عَلَى ٱلْخَٰشِعِينَ <span style='color:#d4af37;font-size:.8em;margin-left:10px'>45</span></div><div style=\"font-family:'Inter',-apple-system,BlinkMacSystemFont,'Segoe UI',Roboto,Arial,sans-serif;font-size:16px;line-height:1.6;color:#eee\">And seek help through patience and prayer, and indeed, it is difficult except for the humbly submissive [to Allah]</div></div><div style='margin:10px 0'><div style=\"direction:rtl;text-align:right;font-family:'Amiri','Scheherazade New','Times New Roman',serif;font-size:24px;line-height:2.2\">ٱلَّذِينَ يَظُنُّونَ أَنَّهُم مُّلَٰقُوا۟ رَبِّهِمْ وَأَنَّهُمْ إِلَيْهِ رَٰجِعُونَ <span style='color:#d4af37;font-size:.8em;margin-left:10px'>46</span></div><div style=\"font-family:'Inter',-apple-system,BlinkMacSystemFont,'Segoe UI',Roboto,Arial,sans-serif;font-size:16px;line-height:1.6;color:#eee\">Who are certain that they will meet their Lord and that they will return to Him.</div></div><div style='margin:10px 0'><div style=\"direction:rtl;text-align:right;font-family:'Amiri','Scheherazade New','Times New Roman',serif;font-size:24px;line-height:2.2\">يَٰبَنِىٓ إِسْرَٰٓءِيلَ ٱذْكُرُوا۟ نِعْمَتِىَ ٱلَّتِىٓ أَنْعَمْتُ عَلَيْكُمْ وَأَنِّى فَضَّلْتُكُمْ عَلَى ٱلْعَٰلَمِينَ <span style='color:#d4af37;font-size:.8em;margin-left:10px'>47</span></div><div style=\"font-family:'Inter',-apple-system,BlinkMacSystemFont,'Segoe UI',Roboto,Arial,sans-serif;font-size:16px;line-height:1.6;color:#eee\">O Children of Israel, remember My favor that I have bestowed upon you and that I preferred you over the worlds.</div></div><div style='margin:10px 0'><div style=\"direction:rtl;text-align:right;font-family:'Amiri','Scheherazade New','Times New Roman',serif;font-size:24px;line-height:2.2\">وَٱتَّقُوا۟ يَوْمًۭا لَّا تَجْزِى نَفْسٌ عَن نَّفْسٍۢ شَيْـًۭٔا وَلَا يُقْبَلُ مِنْهَا شَفَٰعَةٌۭ وَلَا يُؤْخَذُ مِنْهَا عَدْلٌۭ وَلَا هُمْ يُنصَرُونَ <span style='color:#d4af37;font-size:.8em;margin-left:10px'>48</span></div><div style=\"font-family:'Inter',-apple-system,BlinkMacSystemFont,'Segoe UI',Roboto,Arial,sans-serif;font-size:16px;line-height:1.6;color:#eee\">And fear a Day when no soul will suffice for another soul at all, nor will intercession be accepted from it, nor will compensation be taken from it, nor will they be aided.</div></div></div>\n    `;\n    element.style.position = 'absolute';\n    element.style.left = '-9999px';\n    element.style.top = '-9999px';\n    document.body.appendChild(element);\n    \n    html2canvas(element).then(canvas => {\n        var link = document.createElement('a');\n        link.download = 'quran_page_7.png';\n        link.href = canvas.toDataURL();\n        link.click();\n        document.body.removeChild(element);\n    });\n    ",
            "text/plain": [
              "<IPython.core.display.Javascript object>"
            ]
          },
          "metadata": {},
          "output_type": "display_data"
        }
      ],
      "source": [
        "import base64\n",
        "from IPython.display import HTML, Javascript\n",
        "\n",
        "def save_as_image(html_content, filename):\n",
        "    js_code = f\"\"\"\n",
        "    var element = document.createElement('div');\n",
        "    element.innerHTML = `{html_content}`;\n",
        "    element.style.position = 'absolute';\n",
        "    element.style.left = '-9999px';\n",
        "    element.style.top = '-9999px';\n",
        "    document.body.appendChild(element);\n",
        "    \n",
        "    html2canvas(element).then(canvas => {{\n",
        "        var link = document.createElement('a');\n",
        "        link.download = '{filename}';\n",
        "        link.href = canvas.toDataURL();\n",
        "        link.click();\n",
        "        document.body.removeChild(element);\n",
        "    }});\n",
        "    \"\"\"\n",
        "    \n",
        "    display(Javascript(js_code))\n",
        "\n",
        "def save_page_as_image(page_num):\n",
        "    ar = requests.get(f\"http://api.alquran.cloud/v1/page/{page_num}/quran-uthmani\").json()[\"data\"][\"ayahs\"]\n",
        "    en = requests.get(f\"http://api.alquran.cloud/v1/page/{page_num}/en.sahih\").json()[\"data\"][\"ayahs\"]\n",
        "    \n",
        "    s = []\n",
        "    for a,e in zip(ar,en):\n",
        "        s.append(f\"<div style='margin:10px 0'><div style=\\\"direction:rtl;text-align:right;font-family:'Amiri','Scheherazade New','Times New Roman',serif;font-size:24px;line-height:2.2\\\">{a['text']} <span style='color:#d4af37;font-size:.8em;margin-left:10px'>{a['numberInSurah']}</span></div><div style=\\\"font-family:'Inter',-apple-system,BlinkMacSystemFont,'Segoe UI',Roboto,Arial,sans-serif;font-size:16px;line-height:1.6;color:#eee\\\">{e['text']}</div></div>\")\n",
        "    \n",
        "    html = f\"\"\"\n",
        "    <div style=\"background:#1e293b;padding:16px;border-radius:10px;width:800px\">{''.join(s)}</div>\n",
        "    \"\"\"\n",
        "    \n",
        "    save_as_image(html, f\"quran_page_{page_num}.png\")\n",
        "\n",
        "save_page_as_image(7)\n"
      ]
    },
    {
      "cell_type": "code",
      "execution_count": 53,
      "metadata": {},
      "outputs": [
        {
          "name": "stdout",
          "output_type": "stream",
          "text": [
            "✅ Arabic only saved as quran_page_2_arabic_only.png\n",
            "✅ Arabic + translation saved as quran_page_2_arabic_translation.png\n"
          ]
        }
      ],
      "source": [
        "import os\n",
        "import tempfile\n",
        "import subprocess\n",
        "import sys\n",
        "\n",
        "def install_playwright():\n",
        "    try:\n",
        "        subprocess.run([sys.executable, \"-m\", \"pip\", \"install\", \"playwright\"], check=True)\n",
        "        subprocess.run([sys.executable, \"-m\", \"playwright\", \"install\", \"chromium\"], check=True)\n",
        "        return True\n",
        "    except:\n",
        "        return False\n",
        "\n",
        "def save_page_as_image(page_num):\n",
        "    ar = requests.get(f\"http://api.alquran.cloud/v1/page/{page_num}/quran-uthmani\").json()[\"data\"][\"ayahs\"]\n",
        "    en = requests.get(f\"http://api.alquran.cloud/v1/page/{page_num}/en.sahih\").json()[\"data\"][\"ayahs\"]\n",
        "    \n",
        "    # Arabic only\n",
        "    arabic_only = []\n",
        "    for a in ar:\n",
        "        arabic_only.append(f\"{a['text']} <span style='color:#d4af37;font-size:.8em;margin-left:10px'>{a['numberInSurah']}</span>\")\n",
        "    \n",
        "    # Arabic + translation\n",
        "    arabic_translation = []\n",
        "    for a,e in zip(ar,en):\n",
        "        arabic_translation.append(f\"<div style='margin:10px 0'><div style=\\\"direction:rtl;text-align:right;font-family:'Amiri','Scheherazade New','Times New Roman',serif;font-size:24px;line-height:2.2\\\">{a['text']} <span style='color:#d4af37;font-size:.8em;margin-left:10px'>{a['numberInSurah']}</span></div><div style=\\\"font-family:'Inter',-apple-system,BlinkMacSystemFont,'Segoe UI',Roboto,Arial,sans-serif;font-size:16px;line-height:1.6;color:#eee\\\">{e['text']}</div></div>\")\n",
        "    \n",
        "    # Save Arabic only\n",
        "    arabic_html = f\"\"\"\n",
        "    <!DOCTYPE html>\n",
        "    <html>\n",
        "    <head>\n",
        "        <meta charset=\"UTF-8\">\n",
        "        <link href=\"https://fonts.googleapis.com/css2?family=Amiri:wght@400;700&family=Scheherazade+New:wght@400;700&display=swap\" rel=\"stylesheet\">\n",
        "        <style>\n",
        "            body {{ margin: 0; padding: 20px; background: #1e293b; color: white; }}\n",
        "        </style>\n",
        "    </head>\n",
        "    <body>\n",
        "        <div style=\"background:#1e293b;padding:16px;border-radius:10px;width:800px;direction:rtl;text-align:right;font-family:'Amiri','Scheherazade New','Times New Roman',serif;font-size:28px;line-height:2.4\">{' '.join(arabic_only)}</div>\n",
        "    </body>\n",
        "    </html>\n",
        "    \"\"\"\n",
        "    \n",
        "    # Save Arabic + translation\n",
        "    translation_html = f\"\"\"\n",
        "    <!DOCTYPE html>\n",
        "    <html>\n",
        "    <head>\n",
        "        <meta charset=\"UTF-8\">\n",
        "        <link href=\"https://fonts.googleapis.com/css2?family=Amiri:wght@400;700&family=Scheherazade+New:wght@400;700&display=swap\" rel=\"stylesheet\">\n",
        "        <style>\n",
        "            body {{ margin: 0; padding: 20px; background: #1e293b; color: white; }}\n",
        "        </style>\n",
        "    </head>\n",
        "    <body>\n",
        "        <div style=\"background:#1e293b;padding:16px;border-radius:10px;width:800px\">{''.join(arabic_translation)}</div>\n",
        "    </body>\n",
        "    </html>\n",
        "    \"\"\"\n",
        "    \n",
        "    # Create temp files\n",
        "    with tempfile.NamedTemporaryFile(mode='w', suffix='_arabic.html', delete=False, encoding='utf-8') as f:\n",
        "        f.write(arabic_html)\n",
        "        arabic_file = f.name\n",
        "    \n",
        "    with tempfile.NamedTemporaryFile(mode='w', suffix='_translation.html', delete=False, encoding='utf-8') as f:\n",
        "        f.write(translation_html)\n",
        "        translation_file = f.name\n",
        "    \n",
        "    arabic_output = f\"quran_page_{page_num}_arabic_only.png\"\n",
        "    translation_output = f\"quran_page_{page_num}_arabic_translation.png\"\n",
        "    \n",
        "    try:\n",
        "        # Save Arabic only\n",
        "        result1 = subprocess.run([\n",
        "            sys.executable, \"-c\", f\"\"\"\n",
        "import asyncio\n",
        "from playwright.async_api import async_playwright\n",
        "\n",
        "async def main():\n",
        "    async with async_playwright() as p:\n",
        "        browser = await p.chromium.launch()\n",
        "        page = await browser.new_page()\n",
        "        await page.goto('file://{arabic_file}')\n",
        "        await page.screenshot(path='{arabic_output}', full_page=True)\n",
        "        await browser.close()\n",
        "\n",
        "asyncio.run(main())\n",
        "\"\"\"\n",
        "        ], capture_output=True, text=True)\n",
        "        \n",
        "        # Save Arabic + translation\n",
        "        result2 = subprocess.run([\n",
        "            sys.executable, \"-c\", f\"\"\"\n",
        "import asyncio\n",
        "from playwright.async_api import async_playwright\n",
        "\n",
        "async def main():\n",
        "    async with async_playwright() as p:\n",
        "        browser = await p.chromium.launch()\n",
        "        page = await browser.new_page()\n",
        "        await page.goto('file://{translation_file}')\n",
        "        await page.screenshot(path='{translation_output}', full_page=True)\n",
        "        await browser.close()\n",
        "\n",
        "asyncio.run(main())\n",
        "\"\"\"\n",
        "        ], capture_output=True, text=True)\n",
        "        \n",
        "        if result1.returncode == 0 and result2.returncode == 0:\n",
        "            print(f\"✅ Arabic only saved as {arabic_output}\")\n",
        "            print(f\"✅ Arabic + translation saved as {translation_output}\")\n",
        "            os.unlink(arabic_file)\n",
        "            os.unlink(translation_file)\n",
        "        else:\n",
        "            print(f\"❌ Error: {result1.stderr or result2.stderr}\")\n",
        "    except Exception as e:\n",
        "        print(f\"❌ Error: {e}\")\n",
        "\n",
        "page_num = int(input(\"Enter page number (1-604): \"))\n",
        "save_page_as_image(page_num)\n"
      ]
    }
  ],
  "metadata": {
    "kernelspec": {
      "display_name": "Python 3",
      "language": "python",
      "name": "python3"
    },
    "language_info": {
      "codemirror_mode": {
        "name": "ipython",
        "version": 3
      },
      "file_extension": ".py",
      "mimetype": "text/x-python",
      "name": "python",
      "nbconvert_exporter": "python",
      "pygments_lexer": "ipython3",
      "version": "3.9.6"
    }
  },
  "nbformat": 4,
  "nbformat_minor": 2
}
