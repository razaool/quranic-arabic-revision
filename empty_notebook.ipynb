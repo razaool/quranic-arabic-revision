{
  "cells": [
    {
      "cell_type": "code",
      "execution_count": 56,
      "metadata": {},
      "outputs": [
        {
          "name": "stdout",
          "output_type": "stream",
          "text": [
            "✅ Arabic + translation saved as quran_page_77_arabic_translation.png\n"
          ]
        }
      ],
      "source": [
        "import os\n",
        "import tempfile\n",
        "import subprocess\n",
        "import sys\n",
        "\n",
        "def install_playwright():\n",
        "    try:\n",
        "        subprocess.run([sys.executable, \"-m\", \"pip\", \"install\", \"playwright\"], check=True)\n",
        "        subprocess.run([sys.executable, \"-m\", \"playwright\", \"install\", \"chromium\"], check=True)\n",
        "        return True\n",
        "    except:\n",
        "        return False\n",
        "\n",
        "def save_page_as_image(page_num):\n",
        "    ar = requests.get(f\"http://api.alquran.cloud/v1/page/{page_num}/quran-uthmani\").json()[\"data\"][\"ayahs\"]\n",
        "    en = requests.get(f\"http://api.alquran.cloud/v1/page/{page_num}/en.sahih\").json()[\"data\"][\"ayahs\"]\n",
        "    \n",
        "    # Arabic + translation\n",
        "    arabic_translation = []\n",
        "    for a,e in zip(ar,en):\n",
        "        arabic_translation.append(f\"<div style='margin:10px 0'><div style=\\\"direction:rtl;text-align:right;font-family:'Amiri','Scheherazade New','Times New Roman',serif;font-size:24px;line-height:2.2\\\">{a['text']} <span style='color:#d4af37;font-size:.8em;margin-left:10px'>{a['numberInSurah']}</span></div><div style=\\\"font-family:'Inter',-apple-system,BlinkMacSystemFont,'Segoe UI',Roboto,Arial,sans-serif;font-size:16px;line-height:1.6;color:#eee\\\">{e['text']}</div></div>\")\n",
        "    \n",
        "    # Save Arabic + translation\n",
        "    translation_html = f\"\"\"\n",
        "    <!DOCTYPE html>\n",
        "    <html>\n",
        "    <head>\n",
        "        <meta charset=\"UTF-8\">\n",
        "        <link href=\"https://fonts.googleapis.com/css2?family=Amiri:wght@400;700&family=Scheherazade+New:wght@400;700&display=swap\" rel=\"stylesheet\">\n",
        "        <style>\n",
        "            body {{ margin: 0; padding: 20px; background: #1e293b; color: white; }}\n",
        "        </style>\n",
        "    </head>\n",
        "    <body>\n",
        "        <div style=\"background:#1e293b;padding:16px;border-radius:10px;width:800px\">{''.join(arabic_translation)}</div>\n",
        "    </body>\n",
        "    </html>\n",
        "    \"\"\"\n",
        "    \n",
        "    # Create temp file\n",
        "    with tempfile.NamedTemporaryFile(mode='w', suffix='_translation.html', delete=False, encoding='utf-8') as f:\n",
        "        f.write(translation_html)\n",
        "        translation_file = f.name\n",
        "    \n",
        "    translation_output = f\"quran_page_{page_num}_arabic_translation.png\"\n",
        "    \n",
        "    try:\n",
        "        # Save Arabic + translation\n",
        "        result = subprocess.run([\n",
        "            sys.executable, \"-c\", f\"\"\"\n",
        "import asyncio\n",
        "from playwright.async_api import async_playwright\n",
        "\n",
        "async def main():\n",
        "    async with async_playwright() as p:\n",
        "        browser = await p.chromium.launch()\n",
        "        page = await browser.new_page()\n",
        "        await page.goto('file://{translation_file}')\n",
        "        await page.screenshot(path='{translation_output}', full_page=True)\n",
        "        await browser.close()\n",
        "\n",
        "asyncio.run(main())\n",
        "\"\"\"\n",
        "        ], capture_output=True, text=True)\n",
        "        \n",
        "        if result.returncode == 0:\n",
        "            print(f\"✅ Arabic + translation saved as {translation_output}\")\n",
        "            os.unlink(translation_file)\n",
        "        else:\n",
        "            print(f\"❌ Error: {result.stderr}\")\n",
        "    except Exception as e:\n",
        "        print(f\"❌ Error: {e}\")\n",
        "\n",
        "page_num = int(input(\"Enter page number (1-604): \"))\n",
        "save_page_as_image(page_num)\n"
      ]
    }
  ],
  "metadata": {
    "kernelspec": {
      "display_name": "Python 3",
      "language": "python",
      "name": "python3"
    },
    "language_info": {
      "codemirror_mode": {
        "name": "ipython",
        "version": 3
      },
      "file_extension": ".py",
      "mimetype": "text/x-python",
      "name": "python",
      "nbconvert_exporter": "python",
      "pygments_lexer": "ipython3",
      "version": "3.9.6"
    }
  },
  "nbformat": 4,
  "nbformat_minor": 2
}
